{
 "cells": [
  {
   "cell_type": "code",
   "execution_count": 1,
   "metadata": {},
   "outputs": [],
   "source": [
    "import requests, time, random\n",
    "f = open('volumteer', 'w')\n",
    "for i in range(4):\n",
    "    headers = {'user-agent': 'Mozilla/5.0 (Windows NT 10.0; Win64; x64) AppleWebKit/537.36 (KHTML, like Gecko) Chrome/116.0.0.0 Safari/537.36'}\n",
    "    try:\n",
    "        url = f'https://web.whsh.tc.edu.tw/ischool/public/volunteer/volunteer_query_json.php?pageNum=0&maxRows=10&keyword=&bid={i}&query_action=queryallconfirm&auth_type=user'\n",
    "        r = requests.get(url, headers=headers)\n",
    "        if r.headers['Content-Encoding'] == 'gzip':\n",
    "            if len(r.json()) >= 2:\n",
    "                f.write(\"https://web.whsh.tc.edu.tw/ischool/public/volunteer/index.php?bid=\"+str(i)+'\\n')\n",
    "    except KeyError:\n",
    "        pass\n",
    "    time.sleep(random.randint(3,10)/10)\n",
    "f.close()"
   ]
  }
 ],
 "metadata": {
  "kernelspec": {
   "display_name": "Python 3",
   "language": "python",
   "name": "python3"
  },
  "language_info": {
   "codemirror_mode": {
    "name": "ipython",
    "version": 3
   },
   "file_extension": ".py",
   "mimetype": "text/x-python",
   "name": "python",
   "nbconvert_exporter": "python",
   "pygments_lexer": "ipython3",
   "version": "3.11.4"
  },
  "orig_nbformat": 4
 },
 "nbformat": 4,
 "nbformat_minor": 2
}
